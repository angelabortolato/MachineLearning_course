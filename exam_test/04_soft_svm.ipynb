{
 "cells": [
  {
   "cell_type": "markdown",
   "metadata": {},
   "source": [
    "# Machine Learning LAB 4: Soft SVM\n",
    "\n",
    "Course 2024/25: *F. Chiariotti*\n",
    "\n",
    "The notebook contains a simple learning task over which we will implement a **SOFT SUPPORT VECTOR MACHINE** with SGD.\n",
    "\n",
    "Complete all the **required code sections**.\n",
    "\n",
    "### IMPORTANT for the exam:\n",
    "\n",
    "The functions you might be required to implement in the exam will have the same signature and parameters as the ones in the labs"
   ]
  },
  {
   "cell_type": "markdown",
   "metadata": {},
   "source": [
    "## Classification of Stayed/Churned Customers"
   ]
  },
  {
   "cell_type": "markdown",
   "metadata": {},
   "source": [
    "The Customer Churn table contains information on all 3,758 customers from a Telecommunications company in California in Q2 2022. Companies are naturally interested in churn, i.e., in which users are likely to switch to another company soon to get a better deal, and which are more loyal customers.\n",
    "\n",
    "The dataset contains three features:\n",
    "- **Tenure in Months**: Number of months the customer has stayed with the company\n",
    "- **Monthly Charge**: The amount charged to the customer monthly\n",
    "- **Age**: Customer's age\n",
    "\n",
    "The aim of the task is to predict if a customer will churn or not based on the three features."
   ]
  },
  {
   "cell_type": "markdown",
   "metadata": {},
   "source": [
    "---"
   ]
  },
  {
   "cell_type": "markdown",
   "metadata": {},
   "source": [
    "## Import all the necessary Python libraries and load the dataset"
   ]
  },
  {
   "cell_type": "markdown",
   "metadata": {},
   "source": [
    "### The Dataset\n",
    "The dataset is a `.csv` file containing three input features and a label. Here is an example of the first 4 rows of the dataset: \n",
    "\n",
    "<center>\n",
    "\n",
    "Tenure in Months | Monthly Charge | Age | Customer Status |\n",
    "| -----------------| ---------------|-----|-----------------|\n",
    "| 9 | 65.6 | 37 | 0 |\n",
    "| 9 | -4.0 | 46 | 0 |\n",
    "| 4 | 73.9 | 50 | 1 |\n",
    "| ... | ... | ... | ... |\n",
    "\n",
    "</center>\n",
    "\n",
    "Customer Status is 0 if the customer has stayed with the company and 1 if the customer has churned."
   ]
  },
  {
   "cell_type": "code",
   "execution_count": 23,
   "metadata": {},
   "outputs": [],
   "source": [
    "import numpy as np\n",
    "import pandas as pd\n",
    "import random as rnd\n",
    "from matplotlib import pyplot as plt\n",
    "from sklearn import linear_model, preprocessing\n",
    "from sklearn.model_selection import train_test_split\n",
    "\n",
    "np.random.seed(1)\n",
    "\n",
    "def load_dataset(filename):\n",
    "    data_train = pd.read_csv(filename)\n",
    "    #permute the data\n",
    "    data_train = data_train.sample(frac=1).reset_index(drop=True) # shuffle the data\n",
    "    X = data_train.iloc[:, 0:3].values # Get first two columns as the input\n",
    "    Y = data_train.iloc[:, 3].values # Get the third column as the label\n",
    "    Y = 2*Y-1 # Make sure labels are -1 or 1 (0 --> -1, 1 --> 1)\n",
    "    return X,Y\n",
    "\n",
    "# Load the dataset\n",
    "X, Y = load_dataset('data/telecom_customer_churn_cleaned.csv')"
   ]
  },
  {
   "cell_type": "markdown",
   "metadata": {},
   "source": [
    "We are going to differentiate (classify) between **class \"1\" (churned)** and **class \"-1\" (stayed)**"
   ]
  },
  {
   "cell_type": "markdown",
   "metadata": {},
   "source": [
    "## Divide the data into training and test sets"
   ]
  },
  {
   "cell_type": "code",
   "execution_count": 24,
   "metadata": {},
   "outputs": [
    {
     "name": "stdout",
     "output_type": "stream",
     "text": [
      "Number of samples in the train set: 2817\n",
      "Number of samples in the test set: 940\n",
      "Number of churned users in test: 479\n",
      "Number of loyal users in test: 461\n",
      "Mean of the training input data: [-0.  0. -0.]\n",
      "Std of the training input data: [1. 1. 1.]\n",
      "Mean of the test input data: [0.0575483  0.05550169 0.0073833 ]\n",
      "Std of the test input data: [0.98593187 0.97629659 1.00427583]\n"
     ]
    }
   ],
   "source": [
    "# Compute the splits\n",
    "m_training = int(0.75*X.shape[0])\n",
    "\n",
    "# m_test is the number of samples in the test set (total-training)\n",
    "m_test =  X.shape[0] - m_training\n",
    "X_training =  X[:m_training]\n",
    "Y_training =  Y[:m_training]\n",
    "X_test =   X[m_training:]\n",
    "Y_test =  Y[m_training:]\n",
    "\n",
    "print(\"Number of samples in the train set:\", X_training.shape[0])\n",
    "print(\"Number of samples in the test set:\", X_test.shape[0])\n",
    "print(\"Number of churned users in test:\", np.sum(Y_test==-1))\n",
    "print(\"Number of loyal users in test:\", np.sum(Y_test==1))\n",
    "\n",
    "# Standardize the input matrix\n",
    "# The transformation is computed on training data and then used on all the 3 sets\n",
    "scaler = preprocessing.StandardScaler().fit(X_training) \n",
    "\n",
    "np.set_printoptions(suppress=True) # sets to zero floating point numbers < min_float_eps\n",
    "X_training =  scaler.transform(X_training)\n",
    "print (\"Mean of the training input data:\", X_training.mean(axis=0))\n",
    "print (\"Std of the training input data:\",X_training.std(axis=0))\n",
    "\n",
    "X_test =  scaler.transform(X_test)\n",
    "print (\"Mean of the test input data:\", X_test.mean(axis=0))\n",
    "print (\"Std of the test input data:\", X_test.std(axis=0))"
   ]
  },
  {
   "cell_type": "markdown",
   "metadata": {},
   "source": [
    "We will use **homogeneous coordinates** to describe all the coefficients of the model.\n",
    "\n",
    "_Hint:_ The conversion can be performed with the function $hstack$ in $numpy$."
   ]
  },
  {
   "cell_type": "code",
   "execution_count": 25,
   "metadata": {},
   "outputs": [],
   "source": [
    "def to_homogeneous(X_training, X_test):\n",
    "    Xh_training=np.hstack((np.ones((X_training.shape[0], 1)), X_training))\n",
    "    Xh_test=np.hstack((np.ones((X_test.shape[0], 1)), X_test))\n",
    "    return Xh_training, Xh_test"
   ]
  },
  {
   "cell_type": "code",
   "execution_count": 26,
   "metadata": {},
   "outputs": [
    {
     "name": "stdout",
     "output_type": "stream",
     "text": [
      "Training set in homogeneous coordinates:\n",
      "[[ 1.         -0.3798618  -1.57020044  0.85174963]\n",
      " [ 1.         -0.87925308  0.47180292  1.08667766]\n",
      " [ 1.         -0.75440526 -0.6130632  -0.26415851]\n",
      " [ 1.         -1.12894873  0.09856916 -0.96894261]\n",
      " [ 1.         -1.12894873 -0.58486332 -1.20387064]\n",
      " [ 1.          1.78416712  1.39908145  0.08823353]\n",
      " [ 1.         -0.7960212  -1.0990965  -0.32289052]\n",
      " [ 1.          0.20276137 -0.39907585 -0.96894261]\n",
      " [ 1.         -0.62955744  0.63934341  0.96921364]\n",
      " [ 1.         -0.87925308  1.13201197 -0.02923048]]\n"
     ]
    }
   ],
   "source": [
    "# convert to homogeneous coordinates using the function above\n",
    "X_training, X_test = to_homogeneous(X_training, X_test)\n",
    "print(\"Training set in homogeneous coordinates:\")\n",
    "print(X_training[:10])"
   ]
  },
  {
   "cell_type": "markdown",
   "metadata": {},
   "source": [
    "## Soft SVM with stochastic gradient descent\n",
    "\n",
    "Now **complete** the function *sgd_soft_svm* and all auxiliary functions. <br>\n",
    "You should select *a single sample*, compute the gradient, and run the soft SVM version (.\n",
    "\n",
    "The input parameters to pass are:\n",
    "- $X$: the matrix of input features, one row for each sample\n",
    "- $Y$: the vector of labels for the input features matrix X\n",
    "- $max\\_num\\_iterations$: the maximum number of iterations for running the soft SVM\n",
    "- $averaging\\_iterations$: the number of iterations to consider when averaging\n",
    "\n",
    "The output values are:\n",
    "- $best\\_w$: the vector with the coefficients of the best model\n",
    "- $margin$: the *margin* of the best model\n",
    "- $outliers$: the number of outliers that are classified correctly by the best model\n",
    "- $misclassified$: the number of outliers that are misclassified by the best model"
   ]
  },
  {
   "cell_type": "code",
   "execution_count": 27,
   "metadata": {},
   "outputs": [],
   "source": [
    "def count_outliers(current_w, X, Y):\n",
    "    misclassified=0\n",
    "    outliers=0\n",
    "    for i in range(len(Y)):\n",
    "        if Y[i]*np.dot(X[i,:], current_w)<0:\n",
    "            misclassified +=1\n",
    "        elif Y[i]*np.dot(X[i,:], current_w)<1:\n",
    "            outliers +=1\n",
    "    return outliers, misclassified\n",
    "    \n",
    "def find_margin(current_w): \n",
    "    margin = 2/np.linalg.norm(current_w)\n",
    "    return margin\n",
    "\n",
    "def sgd_soft_svm(X, Y, lambda_par, max_num_iterations, averaging_iterations):\n",
    "    # Initialize the weights of the algorithm with w=0\n",
    "    theta = np.zeros(X.shape[1])\n",
    "    best_w = np.zeros(X.shape[1])\n",
    "    num_samples = X.shape[0]\n",
    "\n",
    "    # Loop the SGD algorithm\n",
    "    for num_iter in range(max_num_iterations):\n",
    "        w=theta/(lambda_par*(1+num_iter))\n",
    "        idx=np.random.randint(num_samples)\n",
    "        if Y[idx]*np.dot(X[idx,:], w)<1:\n",
    "            theta+=Y[idx]*X[idx, :]\n",
    "        if num_iter >= max_num_iterations - averaging_iterations:\n",
    "            best_w+=w/averaging_iterations\n",
    "    \n",
    "    outliers, misclassified = count_outliers(w, X, Y)\n",
    "    margin=find_margin(w)\n",
    "    return best_w, margin, outliers, misclassified"
   ]
  },
  {
   "cell_type": "markdown",
   "metadata": {},
   "source": [
    "Now we use the implementation to learn a model from the training data using 100000 iterations and averaging over the last 10000. Let us consider $\\lambda=0.1$. Then we use the best model $best\\_w$ to **predict the labels for the test dataset** and print the fraction of outliers in the test set (the test error that is an estimate of the true loss)."
   ]
  },
  {
   "cell_type": "code",
   "execution_count": 28,
   "metadata": {},
   "outputs": [
    {
     "name": "stdout",
     "output_type": "stream",
     "text": [
      "Soft SVM model: [ 0.01754132 -0.90525444  0.39616412  0.12808265]\n",
      "Soft SVM margin: 2.0183976941387627\n",
      "Total outliers: 1210\n",
      "Misclassified points: 738\n",
      "Total outlier fraction (test set): 0.4563829787234043\n",
      "True loss (test set): 0.251063829787234\n"
     ]
    }
   ],
   "source": [
    "# Now run the Soft SVM with lambda=0.1. Consider 100000 iterations, 10000 of which are avera\n",
    "best_w, margin, outliers, misclassified = sgd_soft_svm(X_training, Y_training, 0.1, int(1e5), int(1e4))\n",
    "print(\"Soft SVM model: \" + str(best_w))\n",
    "print(\"Soft SVM margin: \" + str(margin))\n",
    "print(\"Total outliers: \" + str(outliers))\n",
    "print(\"Misclassified points: \" + str(misclassified))\n",
    "true_error = np.asarray(count_outliers(best_w, X_test, Y_test)) / len(Y_test)\n",
    "\n",
    "print(\"Total outlier fraction (test set): \" + str(true_error[0]))\n",
    "print(\"True loss (test set): \" + str(true_error[1]))"
   ]
  },
  {
   "cell_type": "markdown",
   "metadata": {},
   "source": [
    "Now let us compare the result with your perceptron function from Lab 2."
   ]
  },
  {
   "cell_type": "code",
   "execution_count": 29,
   "metadata": {},
   "outputs": [],
   "source": [
    "def perceptron_randomized_update(current_w, X, Y):\n",
    "    # perceptron update function\n",
    "    (n, index)=count_errors(current_w, X, Y)\n",
    "    ridx=np.random.choice(index)\n",
    "    if n==0 :\n",
    "        new_w=current_w\n",
    "    else :\n",
    "        new_w= current_w + Y[ridx]*X[ridx, :]           #update using first misclassified sample\n",
    "    return new_w\n",
    "\n",
    "def count_errors(current_w, X, Y):\n",
    "    # Find all indices which have a different sign from the corresponding labels\n",
    "    index = np.nonzero(np.sign(np.dot(X, current_w)) - Y)[0]\n",
    "    n = np.array(index).shape[0]\n",
    "    if (n == 0):\n",
    "        # There are no misclassified samples\n",
    "        return 0, -1\n",
    "    return n, index\n",
    "\n",
    "def perceptron_with_randomization(X, Y, max_num_iterations):\n",
    "    # write the perceptron main loop\n",
    "    current_w=np.zeros(X.shape[1])\n",
    "    best_w=np.zeros(X.shape[1])\n",
    "    best_error=2e9\n",
    "    for iters in range(max_num_iterations):\n",
    "        (n, index)=count_errors(current_w, X, Y)\n",
    "        if n==0 :\n",
    "            break\n",
    "        else:\n",
    "            current_w=perceptron_randomized_update(current_w, X, Y)\n",
    "            nerr, _ =count_errors(current_w, X, Y)\n",
    "            if nerr/X.shape[0] < best_error:\n",
    "                best_error=nerr/X.shape[0]\n",
    "                best_w=current_w\n",
    "    \n",
    "    return best_w, best_error"
   ]
  },
  {
   "cell_type": "markdown",
   "metadata": {},
   "source": [
    "Let us test the error of the Soft SVM against the perceptron's best model, using 1000 iterations."
   ]
  },
  {
   "cell_type": "code",
   "execution_count": 30,
   "metadata": {},
   "outputs": [
    {
     "name": "stdout",
     "output_type": "stream",
     "text": [
      "Training Error of perceptron: 0.2463613773517927\n",
      "Best perceptron model: [-1.         -3.98981197  1.04435555  1.20387064]\n",
      "Test Error of perceptron: 0.25957446808510637\n"
     ]
    }
   ],
   "source": [
    "w_found, error = perceptron_with_randomization(X_training, Y_training, 1000)\n",
    "print(\"Training Error of perceptron: \" + str(error))\n",
    "print(\"Best perceptron model: \" + str(w_found))\n",
    "true_loss_estimate =  count_errors(w_found, X_test, Y_test)[0] / len(Y_test)    # Error rate on the test set    \n",
    "print(\"Test Error of perceptron: \" + str(true_loss_estimate))"
   ]
  },
  {
   "cell_type": "markdown",
   "metadata": {},
   "source": [
    "Now we can try to see the effect of $\\lambda$. Consider values $10, 1, 0.1, 0.01, 0.001$ and run a K-fold cross validation (you can use the code from Lab 3). Plot the margin and outlier count. Use the loss (i.e., the number of misclassified points) as a score."
   ]
  },
  {
   "cell_type": "code",
   "execution_count": 31,
   "metadata": {},
   "outputs": [],
   "source": [
    "def K_fold(X_training: np.ndarray, Y_training: np.ndarray, lambda_vec: np.ndarray, K: np.ndarray) -> None:\n",
    "    # Divide training set in K folds\n",
    "    max_idx=len(X_training)\n",
    "    idx=list(range(max_idx))\n",
    "    fold_points = int(np.floor(max_idx / K))\n",
    "    x_fold=[]\n",
    "    y_fold=[]\n",
    "    for i in range(K):                              #partition into folds\n",
    "        fold_idx=rnd.sample(idx, fold_points)\n",
    "        idx= [i for i in idx if i not in fold_idx]\n",
    "        x_fold.append(X_training[fold_idx])\n",
    "        y_fold.append(Y_training[fold_idx])\n",
    "\n",
    "    best=-1\n",
    "    best_perf=9e10\n",
    "    models=[]\n",
    "    results=[]\n",
    "\n",
    "\n",
    "    for lambd in lambda_vec:\n",
    "        lambda_perf = 0\n",
    "        for test in range(K):\n",
    "            x_k_train= np.concatenate([x_fold[l] for l in range(K) if l!=test])\n",
    "            #print(i, \"validation set:\", x_fold[i], \"test set: \", x_k_train)\n",
    "            y_k_train= np.concatenate([y_fold[l] for l in range(K) if l!=test])\n",
    "            w, margin, outliers, misclassified = sgd_soft_svm(x_k_train, y_k_train, lambd, int(1e5), int(1e4))  #find parameters w\n",
    "            outliers_ktest, misclassified_ktest = count_outliers(w, x_fold[test], y_fold[test])\n",
    "            lambda_perf+=misclassified_ktest\n",
    "        lambda_perf /= K\n",
    "        results.append(lambda_perf)\n",
    "        currentmodel=sgd_soft_svm(X_training, Y_training, lambd, int(1e5), int(1e4))\n",
    "        models.append(currentmodel)\n",
    "        if (best_perf > lambda_perf):\n",
    "            # Improvement on the model\n",
    "            best_perf=lambda_perf\n",
    "            best=currentmodel\n",
    "    return best, best_perf, models, results"
   ]
  },
  {
   "cell_type": "code",
   "execution_count": 32,
   "metadata": {},
   "outputs": [
    {
     "name": "stderr",
     "output_type": "stream",
     "text": [
      "<>:8: SyntaxWarning: invalid escape sequence '\\l'\n",
      "<>:8: SyntaxWarning: invalid escape sequence '\\l'\n",
      "C:\\Users\\angel\\AppData\\Local\\Temp\\ipykernel_15552\\495028130.py:8: SyntaxWarning: invalid escape sequence '\\l'\n",
      "  plt.xlabel('$\\log(\\lambda)$')\n"
     ]
    },
    {
     "name": "stdout",
     "output_type": "stream",
     "text": [
      "(array([-0.07202679, -1.23116277,  0.7087399 ,  0.22247687]), 1.3152069616752418, 841, 714) [140.8, 145.4, 146.0, 138.6, 137.8]\n"
     ]
    },
    {
     "data": {
      "image/png": "[encoded data removed]",
      "text/plain": [
       "<Figure size 640x480 with 1 Axes>"
      ]
     },
     "metadata": {},
     "output_type": "display_data"
    }
   ],
   "source": [
    "# Run the training with K-fold cross-validation and plot the score\n",
    "K = 5\n",
    "lambda_par = [10, 1, 1e-1, 1e-2, 1e-3]\n",
    "\n",
    "best_model, best_perf, models, results = K_fold(X_training, Y_training, lambda_par, K)\n",
    "print(best_model, results)\n",
    "plt.plot(np.log10(lambda_par), results)\n",
    "plt.xlabel('$\\log(\\lambda)$')\n",
    "plt.ylabel('Validation loss')\n",
    "plt.show()"
   ]
  },
  {
   "cell_type": "markdown",
   "metadata": {},
   "source": [
    "What does this tell you about the margins? Which one should you choose? Now compute the test loss of the best Soft SVM. What does this tell you about the algorithm choice over this problem?"
   ]
  },
  {
   "cell_type": "code",
   "execution_count": 33,
   "metadata": {},
   "outputs": [
    {
     "name": "stdout",
     "output_type": "stream",
     "text": [
      "Total outlier fraction (test set): 0.3276595744680851\n",
      "True loss (test set): 0.2425531914893617\n"
     ]
    }
   ],
   "source": [
    "true_error = np.asarray(count_outliers(best_model[0], X_test, Y_test)) / len(Y_test)\n",
    "print(\"Total outlier fraction (test set): \" + str(true_error[0]))\n",
    "print(\"True loss (test set): \" + str(true_error[1]))"
   ]
  },
  {
   "cell_type": "code",
   "execution_count": null,
   "metadata": {},
   "outputs": [],
   "source": []
  }
 ],
 "metadata": {
  "anaconda-cloud": {},
  "kernelspec": {
   "display_name": "base",
   "language": "python",
   "name": "python3"
  },
  "language_info": {
   "codemirror_mode": {
    "name": "ipython",
    "version": 3
   },
   "file_extension": ".py",
   "mimetype": "text/x-python",
   "name": "python",
   "nbconvert_exporter": "python",
   "pygments_lexer": "ipython3",
   "version": "3.12.4"
  }
 },
 "nbformat": 4,
 "nbformat_minor": 4
}
