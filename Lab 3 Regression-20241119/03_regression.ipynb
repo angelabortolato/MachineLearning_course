{
 "cells": [
  {
   "cell_type": "markdown",
   "metadata": {},
   "source": [
    "# Machine Learning LAB 3: LINEAR REGRESSION\n",
    "\n",
    "Course 2024/25: *F. Chiariotti*\n",
    "\n",
    "The notebook contains some simple tasks to be performed with **LINEAR REGRESSION MODELS**.\n",
    "\n",
    "Complete all the **required code sections**.\n",
    "\n",
    "### IMPORTANT for the exam:\n",
    "\n",
    "The functions you might be required to implement in the exam will have the same signature and parameters as the ones in the labs"
   ]
  },
  {
   "cell_type": "markdown",
   "metadata": {},
   "source": [
    "## VR traffic prediction\n",
    "\n",
    "In this notebook, we will explore the prediction of Virtual Reality (VR) traffic. The data come from the paper:\n",
    "\n",
    "Lecci, Mattia, _et al._ \"An open framework for analyzing and modeling XR network traffic.\" IEEE Access 9 (2021): 129782-129795.\n",
    "\n",
    "The VR game Virus Popper was instantiated on a computer through the RiftCat application: the user could then see the virtual content on their phone, which was strapped to their head with a Cardboard viewer. The file virus_popper.csv contains three columns from the traffic capture:\n",
    "idx    | frame size (B) |  time (s)\n",
    "0      | 38424          |  0.0\n",
    "1      | 39801          |  0.01944\n",
    "...\n",
    "\n",
    "The game was run at 60 frames per second, with a target rate of 30 Mb/s. The task is then to predict the size of the next frame, given the past N frames. This was explored in another paper:\n",
    "\n",
    "Chiariotti, Federico, _et al._ \"Temporal characterization and prediction of vr traffic: A network slicing use case.\" IEEE Transactions on Mobile Computing 23.5 (2023): 3890-3908.\n",
    "\n",
    "---"
   ]
  },
  {
   "cell_type": "markdown",
   "metadata": {},
   "source": [
    "## Import all the necessary Python libraries"
   ]
  },
  {
   "cell_type": "code",
   "execution_count": 1,
   "metadata": {},
   "outputs": [],
   "source": [
    "import numpy as np\n",
    "import pandas as pd\n",
    "import random as rnd\n",
    "from matplotlib import pyplot as plt\n",
    "from sklearn import linear_model, preprocessing\n",
    "from sklearn.model_selection import train_test_split\n",
    "\n",
    "np.random.seed(1)\n",
    "\n",
    "def load_dataset(filename):\n",
    "    data_train = pd.read_csv(filename)\n",
    "    data = data_train.iloc[:, 1].values # Get the second column (frame size) as the input\n",
    "    return data\n",
    "\n",
    "# Load the dataset\n",
    "data = load_dataset('data/virus_popper.csv')"
   ]
  },
  {
   "cell_type": "markdown",
   "metadata": {},
   "source": [
    "## Prepare the data and create training and test sets\n",
    "\n",
    "In this case, we are learning a time series: let us consider a memory of 2 samples, i.e., use X[n-1] and X[n-2] to predict X[n]."
   ]
  },
  {
   "cell_type": "code",
   "execution_count": 2,
   "metadata": {},
   "outputs": [
    {
     "name": "stdout",
     "output_type": "stream",
     "text": [
      "(25878, 3) (25878,) (8625, 3) (8625,)\n"
     ]
    }
   ],
   "source": [
    "# Normalize the dataset\n",
    "avg_size = np.mean(data)\n",
    "norm_data = np.asarray(data) / avg_size\n",
    "\n",
    "# Compute the splits and prepare the columns\n",
    "m_training = int(0.75*norm_data.shape[0])\n",
    "\n",
    "X_training = np.ones((m_training - 2, 3))\n",
    "X_training[:,1] = norm_data[: m_training - 2]\n",
    "X_training[:,2] = norm_data[1 : m_training - 1]   #X has coordinates 1 (homogeneous repr), X[n-2], X[n-1]\n",
    "Y_training = norm_data[2 : m_training]            #Y has the value we want to predict X[n]\n",
    "\n",
    "\n",
    "X_test = np.ones([norm_data.shape[0] - m_training - 2, 3])\n",
    "X_test[:,1] = norm_data[m_training : -2]\n",
    "X_test[:,2] = norm_data[m_training + 1 : -1]\n",
    "Y_test = norm_data[m_training + 2:]\n",
    "\n",
    "print(np.shape(X_training), np.shape(Y_training), np.shape(X_test), np.shape(Y_test))"
   ]
  },
  {
   "cell_type": "code",
   "execution_count": 3,
   "metadata": {},
   "outputs": [
    {
     "name": "stdout",
     "output_type": "stream",
     "text": [
      "[1.         0.62896851 0.627468  ]\n"
     ]
    }
   ],
   "source": [
    "print(X_training[1,:])"
   ]
  },
  {
   "cell_type": "markdown",
   "metadata": {},
   "source": [
    "## Least Squares linear regression\n",
    "\n",
    "Train and evaluate the LS regressor on the data"
   ]
  },
  {
   "cell_type": "code",
   "execution_count": 4,
   "metadata": {},
   "outputs": [],
   "source": [
    "# Least squares solution\n",
    "def least_squares(X_matrix: np.ndarray, labels: np.ndarray):\n",
    "    ## Run the LS algorithm without regularization\n",
    "    A=np.dot(X_matrix.T, X_matrix)\n",
    "    b=np.dot(X_matrix.T, labels)\n",
    "    return np.matmul(np.linalg.inv(A), b)\n",
    "\n",
    "def evaluate_model(x, y, coeff):\n",
    "    ## Return the average MSE for the set over which we evaluate\n",
    "    mse=(np.dot(x, coeff) - y)**2\n",
    "    MSE=sum(mse)\n",
    "    return MSE/len(mse)\n"
   ]
  },
  {
   "cell_type": "code",
   "execution_count": 5,
   "metadata": {},
   "outputs": [
    {
     "name": "stdout",
     "output_type": "stream",
     "text": [
      "Model coefficients: [0.36986742 0.20348677 0.42565451]\n",
      "MSE:  0.015483932733208609 Root MSE: 7712.354721539177\n"
     ]
    }
   ],
   "source": [
    "# Run the LS training and test it on the test data\n",
    "trained_model = least_squares(X_training, Y_training)\n",
    "mse = evaluate_model(X_test, Y_test, trained_model)\n",
    "print('Model coefficients:', trained_model)\n",
    "print('MSE: ', mse, 'Root MSE:', np.sqrt(mse) * avg_size)"
   ]
  },
  {
   "cell_type": "markdown",
   "metadata": {},
   "source": [
    "---"
   ]
  },
  {
   "cell_type": "markdown",
   "metadata": {},
   "source": [
    "## Least Squares with Tikhonov regularization\n",
    "\n",
    "Perform K-fold cross validation with $\\lambda\\in\\{0, 0.1, 1, 10\\}$"
   ]
  },
  {
   "cell_type": "code",
   "execution_count": null,
   "metadata": {},
   "outputs": [],
   "source": [
    "# Least squares solution\n",
    "def regularized_least_squares(X_matrix: np.ndarray, labels: np.ndarray, lambda_par: np.ndarray) -> None:\n",
    "    ## Run the LS algorithm with regularization\n",
    "    A=np.dot(X_matrix.T, X_matrix)\n",
    "    b=np.dot(X_matrix.T, labels)\n",
    "    return np.matmul(np.linalg.inv(A+2*lambda_par*np.eye(A.shape[0])), b)\n",
    "\n",
    "def K_fold(X_training: np.ndarray, Y_training: np.ndarray, lambda_vec: np.ndarray, K: np.ndarray) -> None:\n",
    "    ## Perform K-fold cross-validation\n",
    "    idx=list(range(len(X_training)))\n",
    "    fold_points=int(np.floor(len(X_training)/K))\n",
    "    x_fold=[]\n",
    "    y_fold=[]\n",
    "    for i in range(K):                              #partition into folds\n",
    "        fold_idx=rnd.sample(idx, fold_points)\n",
    "        idx= [i for i in idx if i not in fold_idx]\n",
    "        x_fold.append(X_training[fold_idx])\n",
    "        y_fold.append(Y_training[fold_idx])\n",
    "\n",
    "    #print(\"x_folds: \", x_fold)\n",
    "\n",
    "    best=-1\n",
    "    best_perf=9e10\n",
    "    best_lamb=0\n",
    "    results=[]\n",
    "    models=[]\n",
    "\n",
    "    for lamb in lambda_vec:\n",
    "        lamb_perf=0\n",
    "        for i in range(K):\n",
    "            x_k_train= np.concatenate([x_fold[l] for l in range(K) if l!=i])\n",
    "            y_k_train= np.concatenate([y_fold[l] for l in range(K) if l!=i])\n",
    "            p=regularized_least_squares(x_fold[i], y_fold[i], lamb)\n",
    "            lamb_perf+=evaluate_model(x_fold[i], y_fold[i], p)\n",
    "        lamb_perf/=K\n",
    "        results.append(lamb_perf)\n",
    "        models.append(regularized_least_squares(X_training, Y_training, lamb))\n",
    "        if lamb_perf<best_perf:\n",
    "            best_perf=lamb_perf\n",
    "            best_lamb=lamb\n",
    "            best=regularized_least_squares(X_training, Y_training, lamb)\n",
    "\n",
    "    return best, best_perf, best_lamb, models, results"
   ]
  },
  {
   "cell_type": "code",
   "execution_count": 7,
   "metadata": {},
   "outputs": [
    {
     "name": "stderr",
     "output_type": "stream",
     "text": [
      "<>:8: SyntaxWarning: invalid escape sequence '\\l'\n",
      "<>:8: SyntaxWarning: invalid escape sequence '\\l'\n",
      "C:\\Users\\angel\\AppData\\Local\\Temp\\ipykernel_22304\\2121395654.py:8: SyntaxWarning: invalid escape sequence '\\l'\n",
      "  plt.xlabel('$\\lambda$')\n"
     ]
    },
    {
     "name": "stdout",
     "output_type": "stream",
     "text": [
      "[0.36986742 0.20348677 0.42565451] [0.021388429091603232, 0.021388733922850713, 0.02138959004438535, 0.021390919649133103, 0.021392656251096195, 0.021394742896234484, 0.021397130684684157, 0.021399777544880053, 0.021402647212502405, 0.021405708376746175, 0.021408933963884748, 0.021412300533965686, 0.021415787771101494, 0.021419378051489565, 0.021423056076218937, 0.021426808558266147, 0.021430623954963653, 0.021434492238751112, 0.021438404700249773, 0.021442353778711988, 0.021446332915715245]\n"
     ]
    },
    {
     "data": {
      "image/png": "[encoded data removed]",
      "text/plain": [
       "<Figure size 640x480 with 1 Axes>"
      ]
     },
     "metadata": {},
     "output_type": "display_data"
    }
   ],
   "source": [
    "# Run the training with K-fold cross-validation and plot the score\n",
    "K = 5\n",
    "lambda_par = range(21)\n",
    "\n",
    "best_model, best_perf, best_lamb, models, results = K_fold(X_training, Y_training, lambda_par, K)\n",
    "print(best_model, results)\n",
    "plt.plot(lambda_par, np.sqrt(results) * avg_size)\n",
    "plt.xlabel('$\\lambda$')\n",
    "plt.ylabel('RMSE')\n",
    "plt.show()\n"
   ]
  },
  {
   "cell_type": "code",
   "execution_count": 8,
   "metadata": {},
   "outputs": [
    {
     "name": "stderr",
     "output_type": "stream",
     "text": [
      "<>:8: SyntaxWarning: invalid escape sequence '\\l'\n",
      "<>:8: SyntaxWarning: invalid escape sequence '\\l'\n",
      "C:\\Users\\angel\\AppData\\Local\\Temp\\ipykernel_22304\\1799133235.py:8: SyntaxWarning: invalid escape sequence '\\l'\n",
      "  plt.xlabel('$\\lambda$')\n"
     ]
    },
    {
     "data": {
      "image/png": "[encoded data removed]",
      "text/plain": [
       "<Figure size 640x480 with 1 Axes>"
      ]
     },
     "metadata": {},
     "output_type": "display_data"
    }
   ],
   "source": [
    "# Plot the results for the regularized models on the test set\n",
    "test_scores = np.zeros(len(models))\n",
    "\n",
    "for i in range(len(models)):\n",
    "    test_scores[i] = evaluate_model(X_test, Y_test, models[i])\n",
    "\n",
    "plt.plot(lambda_par, np.sqrt(test_scores) * avg_size)\n",
    "plt.xlabel('$\\lambda$')\n",
    "plt.ylabel('RMSE')\n",
    "plt.show()\n"
   ]
  },
  {
   "cell_type": "markdown",
   "metadata": {},
   "source": [
    "### EXTRA\n",
    "\n",
    "Can you figure out the best amount of memory to use?\n"
   ]
  }
 ],
 "metadata": {
  "kernelspec": {
   "display_name": "base",
   "language": "python",
   "name": "python3"
  },
  "language_info": {
   "codemirror_mode": {
    "name": "ipython",
    "version": 3
   },
   "file_extension": ".py",
   "mimetype": "text/x-python",
   "name": "python",
   "nbconvert_exporter": "python",
   "pygments_lexer": "ipython3",
   "version": "3.12.4"
  }
 },
 "nbformat": 4,
 "nbformat_minor": 4
}
