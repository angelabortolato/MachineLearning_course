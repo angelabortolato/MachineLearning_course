{
 "cells": [
  {
   "cell_type": "markdown",
   "metadata": {},
   "source": [
    "# Machine Learning LAB 1: MODEL SELECTION\n",
    "\n",
    "Course 2024/25: *F. Chiariotti*\n",
    "\n",
    "The notebook contains a simple learning task over which we will implement **MODEL SELECTION AND VALIDATION**.\n",
    "\n",
    "Complete all the **required code sections** and **answer all the questions**.\n",
    "\n",
    "### IMPORTANT for the exam:\n",
    "\n",
    "The functions you might be required to implement in the exam will have the same signature and parameters as the ones in the labs"
   ]
  },
  {
   "cell_type": "markdown",
   "metadata": {},
   "source": [
    "## Polynomial Classification on Signal to Noise Ratios\n",
    "\n",
    "In this notebook we are going to explore the use of polynomial classification with polynomial regression. We are going to use the Numpy **polyfit** function, which performs polynomial regression.\n",
    "\n",
    "Our use case is a communication problem: we have a set of measurements of the Signal to Noise Ratio (SNR), i.e., the quality of the communication link, in various positions. The SNR depends on two components: firstly, the noise level (which is a random variable that does not depend on position) and the signal attenuation (usually modeled as a polynomial function of the distance).\n",
    "\n",
    "Our transmitter is in (0,0), and coordinates are in meters. In urban scenarios, the attenuation usually follows a third-degree polynomial, but it might be a fourth- or fifth-degree polynomial in more complex cases. How do we choose between different degrees? We will try with a maximum of **6**"
   ]
  },
  {
   "cell_type": "markdown",
   "metadata": {},
   "source": [
    "---"
   ]
  },
  {
   "cell_type": "markdown",
   "metadata": {},
   "source": [
    "## Import all the necessary Python libraries"
   ]
  },
  {
   "cell_type": "code",
   "execution_count": 199,
   "metadata": {},
   "outputs": [],
   "source": [
    "import numpy as np\n",
    "import random\n",
    "import scipy as sp\n",
    "import pandas as pd\n",
    "import itertools\n",
    "from matplotlib import pyplot as plt"
   ]
  },
  {
   "cell_type": "markdown",
   "metadata": {},
   "source": [
    "---"
   ]
  },
  {
   "cell_type": "markdown",
   "metadata": {},
   "source": [
    "## Load the data\n",
    "\n",
    "In this case, x and y are the two coordinates, and the SNR is the thing we are trying to predict\n",
    "\n",
    "**DO NOT CHANGE THE PRE-WRITTEN CODE UNLESS OTHERWISE SPECIFIED**"
   ]
  },
  {
   "cell_type": "code",
   "execution_count": 200,
   "metadata": {},
   "outputs": [],
   "source": [
    "df = pd.read_csv('MachineLearning_course\\lab1\\data\\snr_measurements.csv',sep=';')\n",
    "x = df['x'].to_numpy()\n",
    "y = df['y'].to_numpy()\n",
    "SNR = df['SNR'].to_numpy()"
   ]
  },
  {
   "cell_type": "markdown",
   "metadata": {},
   "source": [
    "## Helper functions\n",
    "\n",
    "These functions will help us evaluate the results"
   ]
  },
  {
   "cell_type": "code",
   "execution_count": 201,
   "metadata": {},
   "outputs": [],
   "source": [
    "def compute_distance(x, y):\n",
    "    # Euclidean distance is computed using the Pythagorean theorem\n",
    "    distance = np.sqrt(x**2+y**2)\n",
    "    return distance\n",
    "\n",
    "def fit(distance, SNR, degree):\n",
    "    return np.polyfit(distance, SNR, deg=degree)\n",
    "\n",
    "def predict(distance, poly_coeffs):\n",
    "    # Predict the SNR from a given model\n",
    "    deg = len(poly_coeffs)\n",
    "    pred = poly_coeffs[-1]\n",
    "    for n in range(1, deg):\n",
    "        pred += poly_coeffs[deg - n - 1] * (distance ** n)\n",
    "    return pred\n",
    "    \n",
    "def evaluate(distance, SNR, poly_coeffs):\n",
    "    mse = 0\n",
    "    # Iterate over the points in the test set\n",
    "    for i in range(len(distance)):\n",
    "        # Compute the value predicted by the model\n",
    "        mse += (predict(distance[i], poly_coeffs) - SNR[i]) ** 2\n",
    "    # Divide by the number of points\n",
    "    mse /= len(distance)\n",
    "    return mse\n",
    "    \n",
    "def separate_test(distance, SNR, test_points):\n",
    "    idx = list(range(len(x)))\n",
    "    test_idx = random.sample(idx, test_points)\n",
    "    train_idx = [i for i in idx if i not in test_idx]\n",
    "    x_train = distance[train_idx]\n",
    "    x_test = distance[test_idx]\n",
    "    y_train = SNR[train_idx]\n",
    "    y_test = SNR[test_idx]\n",
    "    return x_train, y_train, x_test, y_test"
   ]
  },
  {
   "cell_type": "markdown",
   "metadata": {},
   "source": [
    "## A. K-fold cross-validation\n",
    "\n",
    "In this case, x and y are the two coordinates, and the SNR is the thing we are trying to predict"
   ]
  },
  {
   "cell_type": "code",
   "execution_count": 202,
   "metadata": {},
   "outputs": [],
   "source": [
    "# Function to perform the K-fold cross validation\n",
    "def k_fold_cross_validation(x_train: np.ndarray, y_train: np.ndarray, k: int, max_degree: int) -> tuple[tuple, tuple]:\n",
    "    # The two returned values are the best degree and the list of results for all degrees up to max_degree.\n",
    "    # The points should be selected randomly.\n",
    "    # The inputs and labels are already in terms of distance and SNR\n",
    "\n",
    "    best = -1\n",
    "    best_perf = 1e20\n",
    "    results = []\n",
    "    \n",
    "    # Divide training set in K folds\n",
    "    x_folds = []\n",
    "    y_folds = []\n",
    "    fold_points = int(np.floor(len(x_train) / k))\n",
    "    idx = list(range(len(x_train)))\n",
    "    for i in range(k):\n",
    "        fold_idx = random.sample(idx, fold_points)\n",
    "        idx = [i for i in idx if i not in fold_idx]\n",
    "        x_folds.append(x_train[fold_idx])\n",
    "        y_folds.append(y_train[fold_idx])\n",
    "    # Train and validate\n",
    "    for deg in range(max_degree + 1):\n",
    "        degree_perf = 0\n",
    "        for test in range(k):\n",
    "            x_train_fold = [x for i, x in enumerate(x_folds) if i != test] \n",
    "            y_train_fold = [x for i, x in enumerate(y_folds) if i != test]\n",
    "            x_train_fold = np.concatenate(x_train_fold)\n",
    "            y_train_fold = np.concatenate(y_train_fold)\n",
    "            x_validate_fold = x_folds[test]\n",
    "            y_validate_fold = y_folds[test]\n",
    "            k_model = fit(x_train_fold, y_train_fold, deg)\n",
    "            degree_perf += evaluate(x_validate_fold, y_validate_fold, k_model)\n",
    "        degree_perf /= k\n",
    "        results.append(degree_perf)\n",
    "        if (best_perf > degree_perf):\n",
    "            best = fit(x_train, y_train, deg)\n",
    "            best_perf = degree_perf\n",
    "        \n",
    "    return best, results"
   ]
  },
  {
   "cell_type": "code",
   "execution_count": 203,
   "metadata": {},
   "outputs": [
    {
     "name": "stdout",
     "output_type": "stream",
     "text": [
      "[-9.59798836e-08  2.24528135e-05 -2.35247271e-03  7.72888498e-02\n",
      "  9.17714261e+00]\n"
     ]
    },
    {
     "data": {
      "image/png": "[encoded data removed]",
      "text/plain": [
       "<Figure size 432x288 with 1 Axes>"
      ]
     },
     "metadata": {
      "needs_background": "light"
     },
     "output_type": "display_data"
    }
   ],
   "source": [
    "# Run the training with K-fold cross-validation\n",
    "K = 4\n",
    "max_degree = 5\n",
    "test_points = 40\n",
    "\n",
    "\n",
    "distance = compute_distance(x, y)\n",
    "x_train, y_train, x_test, y_test = separate_test(distance, SNR, test_points)\n",
    "best_model, results = k_fold_cross_validation(x_train, y_train, K, max_degree)\n",
    "print(best_model)\n",
    "plt.plot(range(max_degree + 1), results)\n",
    "plt.xlabel('Degree')\n",
    "plt.ylabel('MSE')\n",
    "plt.show()\n"
   ]
  },
  {
   "cell_type": "code",
   "execution_count": 204,
   "metadata": {},
   "outputs": [
    {
     "name": "stdout",
     "output_type": "stream",
     "text": [
      "[-9.59798836e-08  2.24528135e-05 -2.35247271e-03  7.72888498e-02\n",
      "  9.17714261e+00] 0.8626773240887926\n"
     ]
    },
    {
     "data": {
      "image/png": "[encoded data removed]",
      "text/plain": [
       "<Figure size 432x288 with 1 Axes>"
      ]
     },
     "metadata": {
      "needs_background": "light"
     },
     "output_type": "display_data"
    }
   ],
   "source": [
    "dist_vals = np.arange(0,150,0.1)\n",
    "pred_SNR = np.zeros(1500)\n",
    "for i in range(1500):\n",
    "    pred_SNR[i] = predict(dist_vals[i], best_model)\n",
    "\n",
    "print(best_model, evaluate(x_test, y_test, best_model))\n",
    "\n",
    "plt.plot(dist_vals, pred_SNR)\n",
    "plt.scatter(x_test, y_test)\n",
    "plt.xlabel('Distance')\n",
    "plt.ylabel('SNR')\n",
    "plt.show()"
   ]
  },
  {
   "cell_type": "markdown",
   "metadata": {},
   "source": [
    "---"
   ]
  },
  {
   "cell_type": "markdown",
   "metadata": {},
   "source": [
    "## B. Tikhonov regularization\n",
    "\n",
    "Change the loss function to include a Tikhonov regularization term, as an alternative to cross-validation (try $\\lambda=0.01$)"
   ]
  },
  {
   "cell_type": "code",
   "execution_count": 205,
   "metadata": {},
   "outputs": [],
   "source": [
    "def evaluate_tikhonov(x_train: np.ndarray, y_train: np.ndarray, lambda_par: float, max_degree: int) -> tuple[tuple, tuple]:\n",
    "    results = []\n",
    "    best = -1\n",
    "    best_perf = 1e9\n",
    "    for deg in range(max_degree + 1):\n",
    "        k_model = np.polyfit(x_train, y_train, deg)\n",
    "        loss = evaluate(x_train, y_train, k_model) # Empirical risk\n",
    "        loss += np.sum(k_model ** 2) * lambda_par\n",
    "        results.append(loss)\n",
    "        if (best_perf > loss):\n",
    "            best_perf = loss\n",
    "            best = k_model\n",
    "    return best, results"
   ]
  },
  {
   "cell_type": "code",
   "execution_count": 206,
   "metadata": {},
   "outputs": [
    {
     "name": "stdout",
     "output_type": "stream",
     "text": [
      "[6.196132522674841, 3.191226683735282, 1.7591446015002985, 2.1049087680141496, 1.7726948577617878, 1.7158099745481257]\n"
     ]
    },
    {
     "data": {
      "image/png": "[encoded data removed]",
      "text/plain": [
       "<Figure size 432x288 with 1 Axes>"
      ]
     },
     "metadata": {
      "needs_background": "light"
     },
     "output_type": "display_data"
    }
   ],
   "source": [
    "# Run the training with Tikhonov regularization and plot the loss as a function of the degree\n",
    "max_degree = 5\n",
    "test_points = 40\n",
    "lambda_par = 0.01\n",
    "\n",
    "distance = compute_distance(x, y)\n",
    "best_model_tkh, results = evaluate_tikhonov(x_train, y_train, lambda_par, max_degree)\n",
    "print(results)\n",
    "plt.plot(range(max_degree + 1), results)\n",
    "plt.xlabel('Degree')\n",
    "plt.ylabel('Regularized loss')\n",
    "plt.show()"
   ]
  },
  {
   "cell_type": "markdown",
   "metadata": {},
   "source": [
    "## C. Minimum description length regularization\n",
    "\n",
    "Change the loss function to include a representation length regularization term, as an alternative to cross-validation. The minimum description length of a polynomial of degree N is O(2^N) - try $\\lambda=0.02$"
   ]
  },
  {
   "cell_type": "code",
   "execution_count": 207,
   "metadata": {},
   "outputs": [],
   "source": [
    "def evaluate_representation(x_train: np.ndarray, y_train: np.ndarray, k: int, max_degree: int) -> tuple[tuple, tuple]:\n",
    "    results = []\n",
    "    best = -1\n",
    "    best_perf = 1e9\n",
    "    for deg in range(max_degree + 1):\n",
    "        k_model = np.polyfit(x_train, y_train, deg)\n",
    "        loss = evaluate(x_train, y_train, k_model) # Empirical risk\n",
    "        loss += np.power(2, deg + 1) * lambda_par\n",
    "        results.append(loss)\n",
    "        if (best_perf > loss):\n",
    "            best_perf = loss\n",
    "            best = k_model\n",
    "    return best, results"
   ]
  },
  {
   "cell_type": "code",
   "execution_count": 208,
   "metadata": {},
   "outputs": [
    {
     "data": {
      "image/png": "[encoded data removed]",
      "text/plain": [
       "<Figure size 432x288 with 1 Axes>"
      ]
     },
     "metadata": {
      "needs_background": "light"
     },
     "output_type": "display_data"
    }
   ],
   "source": [
    "# Run the training with MDL regularization and plot the loss as a function of the degree\n",
    "max_degree = 5\n",
    "test_points = 40\n",
    "lambda_par = 0.01\n",
    "\n",
    "distance = compute_distance(x, y)\n",
    "best_model_mdl, results = evaluate_representation(x_train, y_train, lambda_par, max_degree)\n",
    "\n",
    "plt.plot(range(max_degree + 1), results)\n",
    "plt.xlabel('Degree')\n",
    "plt.ylabel('Regularized loss')\n",
    "plt.show()"
   ]
  },
  {
   "cell_type": "markdown",
   "metadata": {},
   "source": [
    "### TEST\n",
    "\n",
    "Check the performance of the three solutions on the test set: which one does best?\n"
   ]
  },
  {
   "cell_type": "code",
   "execution_count": 209,
   "metadata": {},
   "outputs": [
    {
     "name": "stdout",
     "output_type": "stream",
     "text": [
      "[-9.59798836e-08  2.24528135e-05 -2.35247271e-03  7.72888498e-02\n",
      "  9.17714261e+00] 0.8626773240887926\n"
     ]
    },
    {
     "data": {
      "image/png": "[encoded data removed]",
      "text/plain": [
       "<Figure size 432x288 with 1 Axes>"
      ]
     },
     "metadata": {
      "needs_background": "light"
     },
     "output_type": "display_data"
    }
   ],
   "source": [
    "dist_vals = np.arange(0,150,0.1)\n",
    "pred_SNR_Kfold = np.zeros(1500)\n",
    "pred_SNR_tkh = np.zeros(1500)\n",
    "pred_SNR_mdl = np.zeros(1500)\n",
    "for i in range(1500):\n",
    "    pred_SNR_Kfold[i] = predict(dist_vals[i], best_model)\n",
    "    pred_SNR_tkh[i] = predict(dist_vals[i], best_model_tkh)\n",
    "    pred_SNR_mdl[i] = predict(dist_vals[i], best_model_mdl)\n",
    "\n",
    "print(best_model, evaluate(x_test, y_test, best_model))\n",
    "\n",
    "plt.plot(dist_vals, pred_SNR_Kfold)\n",
    "plt.plot(dist_vals, pred_SNR_tkh)\n",
    "plt.plot(dist_vals, pred_SNR_mdl)\n",
    "plt.scatter(x_test, y_test)\n",
    "plt.xlabel('Distance')\n",
    "plt.ylabel('SNR')\n",
    "plt.legend(['K-fold','Tikhonov','MDL','Test data'])\n",
    "plt.show()"
   ]
  },
  {
   "cell_type": "code",
   "execution_count": null,
   "metadata": {},
   "outputs": [],
   "source": []
  }
 ],
 "metadata": {
  "kernelspec": {
   "display_name": "Python 3",
   "language": "python",
   "name": "python3"
  },
  "language_info": {
   "codemirror_mode": {
    "name": "ipython",
    "version": 3
   },
   "file_extension": ".py",
   "mimetype": "text/x-python",
   "name": "python",
   "nbconvert_exporter": "python",
   "pygments_lexer": "ipython3",
   "version": "3.10.4"
  }
 },
 "nbformat": 4,
 "nbformat_minor": 4
}
