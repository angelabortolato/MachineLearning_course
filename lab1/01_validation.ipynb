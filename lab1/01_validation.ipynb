{
 "cells": [
  {
   "cell_type": "markdown",
   "metadata": {},
   "source": [
    "# Machine Learning LAB 1: MODEL SELECTION\n",
    "\n",
    "Course 2024/25: *F. Chiariotti*\n",
    "\n",
    "The notebook contains a simple learning task over which we will implement **MODEL SELECTION AND VALIDATION**.\n",
    "\n",
    "Complete all the **required code sections** and **answer all the questions**.\n",
    "\n",
    "### IMPORTANT for the exam:\n",
    "\n",
    "The functions you might be required to implement in the exam will have the same signature and parameters as the ones in the labs"
   ]
  },
  {
   "cell_type": "markdown",
   "metadata": {},
   "source": [
    "## Polynomial Classification on Signal to Noise Ratios\n",
    "\n",
    "In this notebook we are going to explore the use of polynomial classification with polynomial regression. We are going to use the Numpy **polyfit** function, which performs polynomial regression.\n",
    "\n",
    "Our use case is a communication problem: we have a set of measurements of the Signal to Noise Ratio (SNR), i.e., the quality of the communication link, in various positions. The SNR depends on two components: firstly, the noise level (which is a random variable that does not depend on position) and the signal attenuation (usually modeled as a polynomial function of the distance).\n",
    "\n",
    "Our transmitter is in (0,0), and coordinates are in meters. In urban scenarios, the attenuation usually follows a third-degree polynomial, but it might be a fourth- or fifth-degree polynomial in more complex cases. How do we choose between different degrees? We will try with a maximum of **6**"
   ]
  },
  {
   "cell_type": "markdown",
   "metadata": {},
   "source": [
    "---"
   ]
  },
  {
   "cell_type": "markdown",
   "metadata": {},
   "source": [
    "## Import all the necessary Python libraries"
   ]
  },
  {
   "cell_type": "code",
   "execution_count": 1,
   "metadata": {},
   "outputs": [],
   "source": [
    "import numpy as np\n",
    "import random\n",
    "import scipy as sp\n",
    "import pandas as pd\n",
    "import itertools\n",
    "from matplotlib import pyplot as plt"
   ]
  },
  {
   "cell_type": "markdown",
   "metadata": {},
   "source": [
    "---"
   ]
  },
  {
   "cell_type": "markdown",
   "metadata": {},
   "source": [
    "## Load the data\n",
    "\n",
    "In this case, x and y are the two coordinates, and the SNR is the thing we are trying to predict\n",
    "\n",
    "**DO NOT CHANGE THE PRE-WRITTEN CODE UNLESS OTHERWISE SPECIFIED**"
   ]
  },
  {
   "cell_type": "code",
   "execution_count": 2,
   "metadata": {},
   "outputs": [],
   "source": [
    "df = pd.read_csv('data/snr_measurements.csv',sep=';')\n",
    "x = df['x'].values    #convert pandas dataframe to numpy arrays\n",
    "y = df['y'].values\n",
    "SNR = df['SNR'].values          #or SNR = df['SNR'].to_numpy()"
   ]
  },
  {
   "cell_type": "markdown",
   "metadata": {},
   "source": [
    "## Helper functions\n",
    "\n",
    "These functions will help us evaluate the results"
   ]
  },
  {
   "cell_type": "code",
   "execution_count": null,
   "metadata": {},
   "outputs": [],
   "source": [
    "def compute_distance(x, y):\n",
    "    distance=(x**2+y**2)**(1/2)\n",
    "    return distance\n",
    "\n",
    "def fit(distance, SNR, degree):\n",
    "    return np.polyfit(distance, SNR, deg=degree)     #is an array of degree+1 elements of polynomial coefficient from highest degree to x^^0\n",
    "\n",
    "def predict(distance, poly_coeffs, degree):\n",
    "    # Predict the SNR from a given model\n",
    "    SNR=sum([poly_coeffs[degree-deg]* distance**deg for deg in range(degree+1)])\n",
    "    return SNR      #is an array of predicted SNR\n",
    "\n",
    "def evaluate(distance, SNR, poly_coeffs, degree):\n",
    "    # Compute the error of the polynomial fit on the chosen data with mean square error\n",
    "    mse=(predict(distance, poly_coeffs, degree)-SNR)**2\n",
    "    MSE=sum(mse)\n",
    "    return MSE\n",
    "\n",
    "def separate_test(distance, SNR, test_points):\n",
    "    # Return a training set and a test set (the test_points parameter controls the number of test points).\n",
    "    # The points should be selected randomly, so i first create an array of random indices of size test_points\n",
    "    idx=list(range(len(distance)))\n",
    "    testidx=random.sample(idx, test_points)    #without replacement random.sample(), otherwise shuffle and the pick first n points\n",
    "    trainidx=[i for i in idx if i not in testidx]\n",
    "    distance_train=distance[trainidx]\n",
    "    distance_test=distance[testidx]\n",
    "    SNR_train=SNR[trainidx]\n",
    "    SNR_test=SNR[testidx]\n",
    "        \n",
    "    return distance_train, SNR_train, distance_test, SNR_test"
   ]
  },
  {
   "cell_type": "code",
   "execution_count": 4,
   "metadata": {},
   "outputs": [
    {
     "data": {
      "text/plain": [
       "Text(0, 0.5, 'SNR')"
      ]
     },
     "execution_count": 4,
     "metadata": {},
     "output_type": "execute_result"
    },
    {
     "data": {
      "image/png": "[encoded data removed]",
      "text/plain": [
       "<Figure size 432x288 with 1 Axes>"
      ]
     },
     "metadata": {
      "needs_background": "light"
     },
     "output_type": "display_data"
    }
   ],
   "source": [
    "# separate the training and test sets and create a scatter plot of the SNR as a function of the distance\n",
    "distance = compute_distance(x,y)\n",
    "(dist_train, SNR_train, dist_test, SNR_test)=separate_test(distance, SNR, 40)\n",
    "\n",
    "plt.plot(distance, SNR, 'o')\n",
    "plt.xlabel('distance (m)')\n",
    "plt.ylabel('SNR')"
   ]
  },
  {
   "cell_type": "markdown",
   "metadata": {},
   "source": [
    "## A. K-fold cross-validation\n",
    "\n",
    "In this case, x and y are the two coordinates, and the SNR is the thing we are trying to predict"
   ]
  },
  {
   "cell_type": "code",
   "execution_count": 31,
   "metadata": {},
   "outputs": [],
   "source": [
    "# Function to perform the K-fold cross validation\n",
    "def k_fold_cross_validation(x_train: np.ndarray, y_train: np.ndarray, k: int, max_degree: int) -> tuple[tuple, tuple]:\n",
    "    # TODO: Perform K-fold cross-validation on the training set.\n",
    "    # The two returned values are the best model (coefficient) and the list of results (performance) for all degrees up to max_degree.\n",
    "    # The points should be selected randomly.\n",
    "    idx=list(range(len(x_train)))\n",
    "    fold_points=int(np.floor(len(x_train)/k))\n",
    "    x_fold=[]\n",
    "    y_fold=[]\n",
    "    for i in range(k):                              #partition into folds\n",
    "        fold_idx=random.sample(idx, fold_points)\n",
    "        idx= [i for i in idx if i not in fold_idx]\n",
    "        x_fold.append(x_train[fold_idx])\n",
    "        y_fold.append(y_train[fold_idx])\n",
    "\n",
    "    #print(\"x_folds: \", x_fold)\n",
    "\n",
    "    best=-1\n",
    "    best_perf=9e10\n",
    "    results=[]\n",
    "\n",
    "    for degree in range(max_degree+1):\n",
    "        deg_perf=0\n",
    "        for i in range(k):\n",
    "            x_k_train= np.concatenate([x_fold[l] for l in range(k) if l!=i])\n",
    "            #print(i, \"validation set:\", x_fold[i], \"test set: \", x_k_train)\n",
    "            y_k_train= np.concatenate([y_fold[l] for l in range(k) if l!=i])\n",
    "            p=fit(x_k_train,y_k_train, degree)\n",
    "            deg_perf+=evaluate(x_fold[i], y_fold[i], p, degree)\n",
    "        deg_perf/=k\n",
    "        results.append(deg_perf)\n",
    "        if deg_perf<best_perf:\n",
    "            best_perf=deg_perf\n",
    "            best=fit(x_train, y_train, degree)\n",
    "\n",
    "    # The inputs and labels are already in terms of distance and SNR\n",
    "    return best, results"
   ]
  },
  {
   "cell_type": "code",
   "execution_count": null,
   "metadata": {},
   "outputs": [
    {
     "name": "stdout",
     "output_type": "stream",
     "text": [
      "(array([-4.80516563e-06,  2.75956145e-04, -2.31015063e-02,  1.04092446e+01]), [231.19680214636418, 62.22096986559636, 39.00248880556574, 38.291643189693694, 38.44858269349496, 38.880369309951156, 38.58630029611435])\n"
     ]
    },
    {
     "data": {
      "text/plain": [
       "Text(0, 0.5, 'validation performance')"
      ]
     },
     "execution_count": 40,
     "metadata": {},
     "output_type": "execute_result"
    },
    {
     "data": {
      "image/png": "[encoded data removed]",
      "text/plain": [
       "<Figure size 432x288 with 1 Axes>"
      ]
     },
     "metadata": {
      "needs_background": "light"
     },
     "output_type": "display_data"
    }
   ],
   "source": [
    "k_fold_results=k_fold_cross_validation(dist_train, SNR_train, 4, 6)\n",
    "\n",
    "plt.plot(k_fold_results[1])\n",
    "plt.xlabel(\"degree\")\n",
    "plt.ylabel(\"validation performance\")"
   ]
  },
  {
   "cell_type": "code",
   "execution_count": 44,
   "metadata": {},
   "outputs": [
    {
     "data": {
      "text/plain": [
       "Text(0.5, 1.0, 'K-fold validation')"
      ]
     },
     "execution_count": 44,
     "metadata": {},
     "output_type": "execute_result"
    },
    {
     "data": {
      "image/png": "[encoded data removed]",
      "text/plain": [
       "<Figure size 432x288 with 1 Axes>"
      ]
     },
     "metadata": {
      "needs_background": "light"
     },
     "output_type": "display_data"
    }
   ],
   "source": [
    "#  get the test performance of the best model and plot the model output and test points. \n",
    "k_coeff=k_fold_results[0]\n",
    "k_deg=len(k_fold_results[0])-1\n",
    "\n",
    "k_perf=evaluate(dist_test, SNR_test, k_coeff, k_deg)\n",
    "\n",
    "k_predict=predict(np.arange(150), k_coeff, k_deg)\n",
    "\n",
    "plt.plot(dist_test, SNR_test, 'o')\n",
    "plt.plot(np.arange(150), k_predict)\n",
    "plt.xlabel('distance (m)')\n",
    "plt.ylabel('SNR')\n",
    "plt.title('K-fold validation')\n",
    "# Try running the program multiple times, changing the values of K and the number of test points: is the output always the same?"
   ]
  },
  {
   "cell_type": "markdown",
   "metadata": {},
   "source": [
    "---"
   ]
  },
  {
   "cell_type": "markdown",
   "metadata": {},
   "source": [
    "## B. Tikhonov regularization\n",
    "\n",
    "Change the loss function to include a Tikhonov regularization term, as an alternative to cross-validation (try $\\lambda=1$) THIS GETS VERY STRONG REGULARIZATION, TRY $\\lambda=0.01$"
   ]
  },
  {
   "cell_type": "code",
   "execution_count": 8,
   "metadata": {},
   "outputs": [],
   "source": [
    "def evaluate_tikhonov(x_train: np.ndarray, y_train: np.ndarray, lambda_par: float, max_degree: int) -> tuple[tuple, tuple]:\n",
    "    # TODO: apply Tikhonov regularization AFTER the fitting process\n",
    "\n",
    "    return best, results"
   ]
  },
  {
   "cell_type": "code",
   "execution_count": 9,
   "metadata": {},
   "outputs": [],
   "source": [
    "# TODO: run the training with Tikhonov regularization and plot the loss as a function of the degree\n"
   ]
  },
  {
   "cell_type": "markdown",
   "metadata": {},
   "source": [
    "## C. Minimum description length regularization\n",
    "\n",
    "Change the loss function to include a representation length regularization term, as an alternative to cross-validation. The minimum description length of a polynomial of degree N is O(2^N) - try $\\lambda=1$"
   ]
  },
  {
   "cell_type": "code",
   "execution_count": 10,
   "metadata": {},
   "outputs": [],
   "source": [
    "def evaluate_representation(x_train: np.ndarray, y_train: np.ndarray, lambda_par: float, max_degree: int) -> tuple[tuple, tuple]:\n",
    "    # TODO: apply Tikhonov regularization AFTER the fitting process\n",
    "\n",
    "    return best, results"
   ]
  },
  {
   "cell_type": "code",
   "execution_count": 11,
   "metadata": {},
   "outputs": [],
   "source": [
    "# TODO: run the training with MDL regularization and plot the loss as a function of the degree"
   ]
  },
  {
   "cell_type": "markdown",
   "metadata": {},
   "source": [
    "### TEST\n",
    "\n",
    "Check the performance of the three solutions on the test set: which one does best?\n"
   ]
  },
  {
   "cell_type": "code",
   "execution_count": 12,
   "metadata": {},
   "outputs": [],
   "source": [
    "# TODO: plot the results"
   ]
  }
 ],
 "metadata": {
  "kernelspec": {
   "display_name": "Python 3",
   "language": "python",
   "name": "python3"
  },
  "language_info": {
   "codemirror_mode": {
    "name": "ipython",
    "version": 3
   },
   "file_extension": ".py",
   "mimetype": "text/x-python",
   "name": "python",
   "nbconvert_exporter": "python",
   "pygments_lexer": "ipython3",
   "version": "3.10.4"
  }
 },
 "nbformat": 4,
 "nbformat_minor": 4
}
